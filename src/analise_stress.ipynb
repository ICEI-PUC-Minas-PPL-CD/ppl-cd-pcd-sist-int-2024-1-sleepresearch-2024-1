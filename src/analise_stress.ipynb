{
 "cells": [
  {
   "cell_type": "code",
   "execution_count": 47,
   "metadata": {},
   "outputs": [],
   "source": [
    "%matplotlib inline\n",
    "import matplotlib.pyplot as plt\n",
    "import pandas as pd\n",
    "import seaborn as sns\n"
   ]
  },
  {
   "cell_type": "code",
   "execution_count": 48,
   "metadata": {},
   "outputs": [],
   "source": [
    "data = pd.read_csv(\"C:\\\\Users\\\\julio\\\\OneDrive\\\\Documentos\\\\MeusProjetos\\\\trabalho\\\\ppl-cd-pcd-sist-int-2024-1-sleepresearch-2024-1\\\\assets\\\\data\\\\Student Stress Factors.csv\")"
   ]
  },
  {
   "cell_type": "code",
   "execution_count": 49,
   "metadata": {},
   "outputs": [
    {
     "data": {
      "text/html": [
       "<div>\n",
       "<style scoped>\n",
       "    .dataframe tbody tr th:only-of-type {\n",
       "        vertical-align: middle;\n",
       "    }\n",
       "\n",
       "    .dataframe tbody tr th {\n",
       "        vertical-align: top;\n",
       "    }\n",
       "\n",
       "    .dataframe thead th {\n",
       "        text-align: right;\n",
       "    }\n",
       "</style>\n",
       "<table border=\"1\" class=\"dataframe\">\n",
       "  <thead>\n",
       "    <tr style=\"text-align: right;\">\n",
       "      <th></th>\n",
       "      <th>Sleep Quality</th>\n",
       "      <th>suffer headaches</th>\n",
       "      <th>academic performance</th>\n",
       "      <th>study load</th>\n",
       "      <th>practice extracurricular activities</th>\n",
       "      <th>stress levels</th>\n",
       "    </tr>\n",
       "  </thead>\n",
       "  <tbody>\n",
       "    <tr>\n",
       "      <th>0</th>\n",
       "      <td>3</td>\n",
       "      <td>1</td>\n",
       "      <td>3</td>\n",
       "      <td>4</td>\n",
       "      <td>2</td>\n",
       "      <td>3</td>\n",
       "    </tr>\n",
       "    <tr>\n",
       "      <th>1</th>\n",
       "      <td>4</td>\n",
       "      <td>1</td>\n",
       "      <td>2</td>\n",
       "      <td>3</td>\n",
       "      <td>3</td>\n",
       "      <td>2</td>\n",
       "    </tr>\n",
       "    <tr>\n",
       "      <th>2</th>\n",
       "      <td>2</td>\n",
       "      <td>1</td>\n",
       "      <td>2</td>\n",
       "      <td>1</td>\n",
       "      <td>4</td>\n",
       "      <td>4</td>\n",
       "    </tr>\n",
       "    <tr>\n",
       "      <th>3</th>\n",
       "      <td>3</td>\n",
       "      <td>2</td>\n",
       "      <td>3</td>\n",
       "      <td>2</td>\n",
       "      <td>3</td>\n",
       "      <td>3</td>\n",
       "    </tr>\n",
       "    <tr>\n",
       "      <th>4</th>\n",
       "      <td>2</td>\n",
       "      <td>3</td>\n",
       "      <td>1</td>\n",
       "      <td>5</td>\n",
       "      <td>5</td>\n",
       "      <td>3</td>\n",
       "    </tr>\n",
       "  </tbody>\n",
       "</table>\n",
       "</div>"
      ],
      "text/plain": [
       "   Sleep Quality  suffer headaches  academic performance  study load  \\\n",
       "0              3                 1                     3           4   \n",
       "1              4                 1                     2           3   \n",
       "2              2                 1                     2           1   \n",
       "3              3                 2                     3           2   \n",
       "4              2                 3                     1           5   \n",
       "\n",
       "   practice extracurricular activities  stress levels  \n",
       "0                                    2              3  \n",
       "1                                    3              2  \n",
       "2                                    4              4  \n",
       "3                                    3              3  \n",
       "4                                    5              3  "
      ]
     },
     "execution_count": 49,
     "metadata": {},
     "output_type": "execute_result"
    }
   ],
   "source": [
    "data.head()"
   ]
  },
  {
   "cell_type": "code",
   "execution_count": 50,
   "metadata": {},
   "outputs": [
    {
     "data": {
      "text/plain": [
       "Sleep Quality                          520\n",
       "suffer headaches                       520\n",
       "academic performance                   520\n",
       "study load                             520\n",
       "practice extracurricular activities    520\n",
       "stress levels                          520\n",
       "dtype: int64"
      ]
     },
     "execution_count": 50,
     "metadata": {},
     "output_type": "execute_result"
    }
   ],
   "source": [
    "data.count()"
   ]
  },
  {
   "cell_type": "code",
   "execution_count": 51,
   "metadata": {},
   "outputs": [
    {
     "name": "stdout",
     "output_type": "stream",
     "text": [
      "<class 'pandas.core.frame.DataFrame'>\n",
      "RangeIndex: 520 entries, 0 to 519\n",
      "Data columns (total 6 columns):\n",
      " #   Column                               Non-Null Count  Dtype\n",
      "---  ------                               --------------  -----\n",
      " 0   Sleep Quality                        520 non-null    int64\n",
      " 1   suffer headaches                     520 non-null    int64\n",
      " 2   academic performance                 520 non-null    int64\n",
      " 3   study load                           520 non-null    int64\n",
      " 4   practice extracurricular activities  520 non-null    int64\n",
      " 5   stress levels                        520 non-null    int64\n",
      "dtypes: int64(6)\n",
      "memory usage: 24.5 KB\n"
     ]
    }
   ],
   "source": [
    "data.info()"
   ]
  },
  {
   "cell_type": "markdown",
   "metadata": {},
   "source": [
    "analise Study X Sleep X Perfomance"
   ]
  },
  {
   "cell_type": "code",
   "execution_count": 52,
   "metadata": {},
   "outputs": [
    {
     "name": "stderr",
     "output_type": "stream",
     "text": [
      "C:\\Users\\julio\\AppData\\Local\\Temp\\ipykernel_3564\\2653893171.py:1: UserWarning: Boolean Series key will be reindexed to match DataFrame index.\n",
      "  SleepStudy = data[data['Sleep Quality'] <= 2][data['study load'] >= 4]['academic performance']\n"
     ]
    },
    {
     "data": {
      "text/plain": [
       "4      1\n",
       "8      4\n",
       "10     5\n",
       "12     3\n",
       "15     3\n",
       "43     4\n",
       "46     4\n",
       "79     3\n",
       "84     2\n",
       "90     2\n",
       "108    1\n",
       "112    4\n",
       "114    5\n",
       "116    3\n",
       "119    3\n",
       "147    4\n",
       "150    4\n",
       "183    3\n",
       "188    2\n",
       "194    2\n",
       "212    1\n",
       "216    4\n",
       "218    5\n",
       "220    3\n",
       "223    3\n",
       "251    4\n",
       "254    4\n",
       "287    3\n",
       "292    2\n",
       "298    2\n",
       "316    1\n",
       "320    4\n",
       "322    5\n",
       "324    3\n",
       "327    3\n",
       "355    4\n",
       "358    4\n",
       "391    3\n",
       "396    2\n",
       "402    2\n",
       "420    1\n",
       "424    4\n",
       "426    5\n",
       "428    3\n",
       "431    3\n",
       "459    4\n",
       "462    4\n",
       "495    3\n",
       "500    2\n",
       "506    2\n",
       "Name: academic performance, dtype: int64"
      ]
     },
     "execution_count": 52,
     "metadata": {},
     "output_type": "execute_result"
    }
   ],
   "source": [
    "SleepStudy = data[data['Sleep Quality'] <= 2][data['study load'] >= 4]['academic performance']\n",
    "SleepStudy"
   ]
  },
  {
   "cell_type": "code",
   "execution_count": 53,
   "metadata": {},
   "outputs": [
    {
     "data": {
      "text/plain": [
       "3.1"
      ]
     },
     "execution_count": 53,
     "metadata": {},
     "output_type": "execute_result"
    }
   ],
   "source": [
    "SleepStudy.mean()"
   ]
  },
  {
   "cell_type": "code",
   "execution_count": 54,
   "metadata": {},
   "outputs": [
    {
     "data": {
      "text/plain": [
       "50"
      ]
     },
     "execution_count": 54,
     "metadata": {},
     "output_type": "execute_result"
    }
   ],
   "source": [
    "SleepStudy.count()"
   ]
  },
  {
   "cell_type": "markdown",
   "metadata": {},
   "source": [
    "Performance de indivíduos que tem estudo baixo e alta qualidade de sono"
   ]
  },
  {
   "cell_type": "code",
   "execution_count": 55,
   "metadata": {},
   "outputs": [
    {
     "name": "stderr",
     "output_type": "stream",
     "text": [
      "C:\\Users\\julio\\AppData\\Local\\Temp\\ipykernel_3564\\129390236.py:1: UserWarning: Boolean Series key will be reindexed to match DataFrame index.\n",
      "  StudySleep = data[data['Sleep Quality'] >= 4][data['study load'] <=2]['academic performance']\n"
     ]
    },
    {
     "data": {
      "text/plain": [
       "14     3\n",
       "24     4\n",
       "26     5\n",
       "27     5\n",
       "31     3\n",
       "      ..\n",
       "489    5\n",
       "491    3\n",
       "496    5\n",
       "509    4\n",
       "510    3\n",
       "Name: academic performance, Length: 90, dtype: int64"
      ]
     },
     "execution_count": 55,
     "metadata": {},
     "output_type": "execute_result"
    }
   ],
   "source": [
    "StudySleep = data[data['Sleep Quality'] >= 4][data['study load'] <=2]['academic performance']\n",
    "StudySleep"
   ]
  },
  {
   "cell_type": "code",
   "execution_count": 56,
   "metadata": {},
   "outputs": [
    {
     "data": {
      "text/plain": [
       "3.5"
      ]
     },
     "execution_count": 56,
     "metadata": {},
     "output_type": "execute_result"
    }
   ],
   "source": [
    "StudySleep.mean()"
   ]
  },
  {
   "cell_type": "code",
   "execution_count": 57,
   "metadata": {},
   "outputs": [
    {
     "data": {
      "text/plain": [
       "90"
      ]
     },
     "execution_count": 57,
     "metadata": {},
     "output_type": "execute_result"
    }
   ],
   "source": [
    "StudySleep.count()"
   ]
  },
  {
   "cell_type": "markdown",
   "metadata": {},
   "source": [
    "Performance de indivíduos com alto tempo de estudo e boa qualidade de sono"
   ]
  },
  {
   "cell_type": "code",
   "execution_count": 58,
   "metadata": {},
   "outputs": [
    {
     "name": "stderr",
     "output_type": "stream",
     "text": [
      "C:\\Users\\julio\\AppData\\Local\\Temp\\ipykernel_3564\\2843303349.py:1: UserWarning: Boolean Series key will be reindexed to match DataFrame index.\n",
      "  AtBoth = data[data['Sleep Quality'] >=4][data['study load'] >=4]['academic performance']\n"
     ]
    },
    {
     "data": {
      "text/plain": [
       "7      1\n",
       "13     4\n",
       "30     3\n",
       "32     4\n",
       "34     5\n",
       "41     4\n",
       "44     4\n",
       "58     4\n",
       "62     3\n",
       "96     4\n",
       "103    5\n",
       "111    1\n",
       "117    4\n",
       "134    3\n",
       "136    4\n",
       "138    5\n",
       "145    4\n",
       "148    4\n",
       "162    4\n",
       "166    3\n",
       "200    4\n",
       "207    5\n",
       "215    1\n",
       "221    4\n",
       "238    3\n",
       "240    4\n",
       "242    5\n",
       "249    4\n",
       "252    4\n",
       "266    4\n",
       "270    3\n",
       "304    4\n",
       "311    5\n",
       "319    1\n",
       "325    4\n",
       "342    3\n",
       "344    4\n",
       "346    5\n",
       "353    4\n",
       "356    4\n",
       "370    4\n",
       "374    3\n",
       "408    4\n",
       "415    5\n",
       "423    1\n",
       "429    4\n",
       "446    3\n",
       "448    4\n",
       "450    5\n",
       "457    4\n",
       "460    4\n",
       "474    4\n",
       "478    3\n",
       "512    4\n",
       "519    5\n",
       "Name: academic performance, dtype: int64"
      ]
     },
     "execution_count": 58,
     "metadata": {},
     "output_type": "execute_result"
    }
   ],
   "source": [
    "AtBoth = data[data['Sleep Quality'] >=4][data['study load'] >=4]['academic performance']\n",
    "AtBoth"
   ]
  },
  {
   "cell_type": "code",
   "execution_count": 59,
   "metadata": {},
   "outputs": [
    {
     "data": {
      "text/plain": [
       "3.727272727272727"
      ]
     },
     "execution_count": 59,
     "metadata": {},
     "output_type": "execute_result"
    }
   ],
   "source": [
    "AtBoth.mean()"
   ]
  },
  {
   "cell_type": "code",
   "execution_count": 60,
   "metadata": {},
   "outputs": [
    {
     "data": {
      "text/plain": [
       "55"
      ]
     },
     "execution_count": 60,
     "metadata": {},
     "output_type": "execute_result"
    }
   ],
   "source": [
    "AtBoth.count()"
   ]
  },
  {
   "cell_type": "markdown",
   "metadata": {},
   "source": [
    "Performance de indivíduos com baixo tempo de estudo e baixa qualidade de sono"
   ]
  },
  {
   "cell_type": "code",
   "execution_count": 61,
   "metadata": {},
   "outputs": [
    {
     "name": "stderr",
     "output_type": "stream",
     "text": [
      "C:\\Users\\julio\\AppData\\Local\\Temp\\ipykernel_3564\\3078690675.py:1: UserWarning: Boolean Series key will be reindexed to match DataFrame index.\n",
      "  LessAtBoth = data[data['Sleep Quality'] <=2][data['study load'] <=2]['academic performance']\n"
     ]
    },
    {
     "data": {
      "text/plain": [
       "2      2\n",
       "9      3\n",
       "17     1\n",
       "18     3\n",
       "19     3\n",
       "      ..\n",
       "492    4\n",
       "502    3\n",
       "505    2\n",
       "516    3\n",
       "517    5\n",
       "Name: academic performance, Length: 85, dtype: int64"
      ]
     },
     "execution_count": 61,
     "metadata": {},
     "output_type": "execute_result"
    }
   ],
   "source": [
    "LessAtBoth = data[data['Sleep Quality'] <=2][data['study load'] <=2]['academic performance']\n",
    "LessAtBoth"
   ]
  },
  {
   "cell_type": "code",
   "execution_count": 62,
   "metadata": {},
   "outputs": [
    {
     "data": {
      "text/plain": [
       "3.0"
      ]
     },
     "execution_count": 62,
     "metadata": {},
     "output_type": "execute_result"
    }
   ],
   "source": [
    "LessAtBoth.mean()"
   ]
  },
  {
   "cell_type": "code",
   "execution_count": 63,
   "metadata": {},
   "outputs": [
    {
     "data": {
      "text/plain": [
       "85"
      ]
     },
     "execution_count": 63,
     "metadata": {},
     "output_type": "execute_result"
    }
   ],
   "source": [
    "LessAtBoth.count()"
   ]
  },
  {
   "cell_type": "markdown",
   "metadata": {},
   "source": [
    "media da media"
   ]
  },
  {
   "cell_type": "code",
   "execution_count": 64,
   "metadata": {},
   "outputs": [
    {
     "name": "stderr",
     "output_type": "stream",
     "text": [
      "C:\\Users\\julio\\AppData\\Local\\Temp\\ipykernel_3564\\2285939989.py:1: UserWarning: Boolean Series key will be reindexed to match DataFrame index.\n",
      "  TheMean = data[data['Sleep Quality'] ==3][data['study load'] ==3]['academic performance']\n"
     ]
    }
   ],
   "source": [
    "TheMean = data[data['Sleep Quality'] ==3][data['study load'] ==3]['academic performance']"
   ]
  },
  {
   "cell_type": "code",
   "execution_count": 65,
   "metadata": {},
   "outputs": [
    {
     "data": {
      "text/plain": [
       "3.8"
      ]
     },
     "execution_count": 65,
     "metadata": {},
     "output_type": "execute_result"
    }
   ],
   "source": [
    "TheMean.mean()"
   ]
  },
  {
   "cell_type": "code",
   "execution_count": 66,
   "metadata": {},
   "outputs": [
    {
     "data": {
      "text/plain": [
       "25"
      ]
     },
     "execution_count": 66,
     "metadata": {},
     "output_type": "execute_result"
    }
   ],
   "source": [
    "TheMean.count()"
   ]
  },
  {
   "cell_type": "markdown",
   "metadata": {},
   "source": [
    "Relação do sono com dor de cabeça e estresse"
   ]
  },
  {
   "cell_type": "code",
   "execution_count": 67,
   "metadata": {},
   "outputs": [
    {
     "name": "stderr",
     "output_type": "stream",
     "text": [
      "C:\\Users\\julio\\AppData\\Local\\Temp\\ipykernel_3564\\1321327078.py:1: UserWarning: Boolean Series key will be reindexed to match DataFrame index.\n",
      "  stressMuchStudy = data[data['Sleep Quality'] <= 2][data['study load'] >=4]['stress levels']\n"
     ]
    }
   ],
   "source": [
    "stressMuchStudy = data[data['Sleep Quality'] <= 2][data['study load'] >=4]['stress levels']"
   ]
  },
  {
   "cell_type": "code",
   "execution_count": 68,
   "metadata": {},
   "outputs": [
    {
     "data": {
      "text/plain": [
       "3.2"
      ]
     },
     "execution_count": 68,
     "metadata": {},
     "output_type": "execute_result"
    }
   ],
   "source": [
    "stressMuchStudy.mean()"
   ]
  },
  {
   "cell_type": "code",
   "execution_count": 69,
   "metadata": {},
   "outputs": [
    {
     "name": "stderr",
     "output_type": "stream",
     "text": [
      "C:\\Users\\julio\\AppData\\Local\\Temp\\ipykernel_3564\\696732074.py:1: UserWarning: Boolean Series key will be reindexed to match DataFrame index.\n",
      "  stressGoodSleep = data[data['Sleep Quality'] >= 4][data['study load'] <=2]['stress levels']\n"
     ]
    }
   ],
   "source": [
    "stressGoodSleep = data[data['Sleep Quality'] >= 4][data['study load'] <=2]['stress levels']"
   ]
  },
  {
   "cell_type": "code",
   "execution_count": 70,
   "metadata": {},
   "outputs": [
    {
     "data": {
      "text/plain": [
       "2.7222222222222223"
      ]
     },
     "execution_count": 70,
     "metadata": {},
     "output_type": "execute_result"
    }
   ],
   "source": [
    "stressGoodSleep.mean()"
   ]
  },
  {
   "cell_type": "code",
   "execution_count": 71,
   "metadata": {},
   "outputs": [
    {
     "name": "stderr",
     "output_type": "stream",
     "text": [
      "C:\\Users\\julio\\AppData\\Local\\Temp\\ipykernel_3564\\2729106091.py:1: UserWarning: Boolean Series key will be reindexed to match DataFrame index.\n",
      "  stressGoodSleepMuchStudy = data[data['Sleep Quality'] >= 4][data['study load'] >=4]['stress levels']\n"
     ]
    }
   ],
   "source": [
    "stressGoodSleepMuchStudy = data[data['Sleep Quality'] >= 4][data['study load'] >=4]['stress levels']"
   ]
  },
  {
   "cell_type": "code",
   "execution_count": 72,
   "metadata": {},
   "outputs": [
    {
     "data": {
      "text/plain": [
       "3.3636363636363638"
      ]
     },
     "execution_count": 72,
     "metadata": {},
     "output_type": "execute_result"
    }
   ],
   "source": [
    "stressGoodSleepMuchStudy.mean()"
   ]
  },
  {
   "cell_type": "code",
   "execution_count": 73,
   "metadata": {},
   "outputs": [
    {
     "name": "stderr",
     "output_type": "stream",
     "text": [
      "C:\\Users\\julio\\AppData\\Local\\Temp\\ipykernel_3564\\990237311.py:1: UserWarning: Boolean Series key will be reindexed to match DataFrame index.\n",
      "  stressPoorSleepLessStudy = data[data['Sleep Quality'] <= 2][data['study load'] <=2]['stress levels']\n"
     ]
    }
   ],
   "source": [
    "stressPoorSleepLessStudy = data[data['Sleep Quality'] <= 2][data['study load'] <=2]['stress levels']"
   ]
  },
  {
   "cell_type": "code",
   "execution_count": 74,
   "metadata": {},
   "outputs": [
    {
     "data": {
      "text/plain": [
       "2.235294117647059"
      ]
     },
     "execution_count": 74,
     "metadata": {},
     "output_type": "execute_result"
    }
   ],
   "source": [
    "stressPoorSleepLessStudy.mean()"
   ]
  },
  {
   "cell_type": "code",
   "execution_count": 75,
   "metadata": {},
   "outputs": [
    {
     "name": "stderr",
     "output_type": "stream",
     "text": [
      "C:\\Users\\julio\\AppData\\Local\\Temp\\ipykernel_3564\\1801837753.py:1: UserWarning: Boolean Series key will be reindexed to match DataFrame index.\n",
      "  streeOfTheMean = data[data['Sleep Quality'] ==3][data['study load'] ==3]['stress levels']\n"
     ]
    }
   ],
   "source": [
    "streeOfTheMean = data[data['Sleep Quality'] ==3][data['study load'] ==3]['stress levels']"
   ]
  },
  {
   "cell_type": "code",
   "execution_count": 76,
   "metadata": {},
   "outputs": [
    {
     "data": {
      "text/plain": [
       "2.8"
      ]
     },
     "execution_count": 76,
     "metadata": {},
     "output_type": "execute_result"
    }
   ],
   "source": [
    "streeOfTheMean.mean()"
   ]
  },
  {
   "cell_type": "markdown",
   "metadata": {},
   "source": [
    "Extras:"
   ]
  },
  {
   "cell_type": "code",
   "execution_count": 77,
   "metadata": {},
   "outputs": [],
   "source": [
    "SS1 = SleepStudy.count()\n",
    "SS2 = StudySleep.count()\n",
    "SS3 = AtBoth.count()\n",
    "SS4 = LessAtBoth.count()\n",
    "SS5 = TheMean.count()"
   ]
  },
  {
   "cell_type": "code",
   "execution_count": 78,
   "metadata": {},
   "outputs": [
    {
     "data": {
      "text/plain": [
       "305"
      ]
     },
     "execution_count": 78,
     "metadata": {},
     "output_type": "execute_result"
    }
   ],
   "source": [
    "soma =  SS1 + SS2 + SS3 + SS4 + SS5\n",
    "soma"
   ]
  },
  {
   "cell_type": "markdown",
   "metadata": {},
   "source": [
    "Graficos"
   ]
  },
  {
   "cell_type": "code",
   "execution_count": 79,
   "metadata": {},
   "outputs": [],
   "source": [
    "labels = 'estudo alto e baixa qualidade de sono', 'estudo baixo e alta qualidade de sono', 'Bom tempo de estudo e qualidade de sono', 'Baixo tempo de estudo e qualidade de sono', 'tempo de estudo e qualidade de sono media'"
   ]
  },
  {
   "cell_type": "code",
   "execution_count": 80,
   "metadata": {},
   "outputs": [],
   "source": [
    "sizes = [SS1,SS2,SS3,SS4,SS5]"
   ]
  },
  {
   "cell_type": "code",
   "execution_count": 81,
   "metadata": {},
   "outputs": [
    {
     "data": {
      "text/plain": [
       "<matplotlib.legend.Legend at 0x29289df5490>"
      ]
     },
     "execution_count": 81,
     "metadata": {},
     "output_type": "execute_result"
    },
    {
     "data": {
      "image/png": "[encoded data removed]",
      "text/plain": [
       "<Figure size 640x480 with 1 Axes>"
      ]
     },
     "metadata": {},
     "output_type": "display_data"
    }
   ],
   "source": [
    "fig, ax1= plt.subplots()\n",
    "\n",
    "ax1.pie(sizes, autopct='%1.1f%%', shadow=False, startangle=90)\n",
    "ax1.legend(labels=labels, bbox_to_anchor = (1,1))"
   ]
  },
  {
   "cell_type": "code",
   "execution_count": null,
   "metadata": {},
   "outputs": [],
   "source": []
  },
  {
   "cell_type": "code",
   "execution_count": null,
   "metadata": {},
   "outputs": [],
   "source": []
  },
  {
   "cell_type": "code",
   "execution_count": 82,
   "metadata": {},
   "outputs": [],
   "source": [
    "medias = [SleepStudy.mean(), StudySleep.mean(), AtBoth.mean(), LessAtBoth.mean(), TheMean.mean()]"
   ]
  },
  {
   "cell_type": "code",
   "execution_count": 83,
   "metadata": {},
   "outputs": [],
   "source": [
    "graph1 = pd.DataFrame({'categorias': labels, 'media da performance': medias})"
   ]
  },
  {
   "cell_type": "code",
   "execution_count": 84,
   "metadata": {},
   "outputs": [
    {
     "name": "stderr",
     "output_type": "stream",
     "text": [
      "C:\\Users\\julio\\AppData\\Local\\Temp\\ipykernel_3564\\3176580163.py:2: UserWarning: set_ticklabels() should only be used with a fixed number of ticks, i.e. after set_ticks() or using a FixedLocator.\n",
      "  ax2.set_xticklabels(['1','2', '3', '4', '5'])\n"
     ]
    },
    {
     "data": {
      "text/plain": [
       "<matplotlib.legend.Legend at 0x2928c473530>"
      ]
     },
     "execution_count": 84,
     "metadata": {},
     "output_type": "execute_result"
    },
    {
     "data": {
      "image/png": "[encoded data removed]",
      "text/plain": [
       "<Figure size 640x480 with 1 Axes>"
      ]
     },
     "metadata": {},
     "output_type": "display_data"
    }
   ],
   "source": [
    "ax2 = sns.barplot(data= graph1, x='categorias',y='media da performance')\n",
    "ax2.set_xticklabels(['1','2', '3', '4', '5'])\n",
    "ax2.legend(labels=labels, bbox_to_anchor = (1.1,1))"
   ]
  },
  {
   "cell_type": "code",
   "execution_count": 85,
   "metadata": {},
   "outputs": [],
   "source": [
    "mediasStress = [stressMuchStudy.mean(), stressGoodSleep.mean(), stressGoodSleepMuchStudy.mean(), stressPoorSleepLessStudy.mean(), streeOfTheMean.mean()]"
   ]
  },
  {
   "cell_type": "code",
   "execution_count": 86,
   "metadata": {},
   "outputs": [],
   "source": [
    "graph2 = pd.DataFrame({'categorias': labels, 'Stress Medio': mediasStress})"
   ]
  },
  {
   "cell_type": "code",
   "execution_count": 87,
   "metadata": {},
   "outputs": [
    {
     "name": "stderr",
     "output_type": "stream",
     "text": [
      "C:\\Users\\julio\\AppData\\Local\\Temp\\ipykernel_3564\\2681988155.py:2: UserWarning: set_ticklabels() should only be used with a fixed number of ticks, i.e. after set_ticks() or using a FixedLocator.\n",
      "  ax3.set_xticklabels(['1','2', '3', '4', '5'])\n"
     ]
    },
    {
     "data": {
      "text/plain": [
       "<matplotlib.legend.Legend at 0x2928cd99e50>"
      ]
     },
     "execution_count": 87,
     "metadata": {},
     "output_type": "execute_result"
    },
    {
     "data": {
      "image/png": "[encoded data removed]",
      "text/plain": [
       "<Figure size 640x480 with 1 Axes>"
      ]
     },
     "metadata": {},
     "output_type": "display_data"
    }
   ],
   "source": [
    "ax3 = sns.barplot(data=graph2, x= 'categorias', y= 'Stress Medio')\n",
    "ax3.set_xticklabels(['1','2', '3', '4', '5'])\n",
    "ax3.legend(labels=labels, bbox_to_anchor = (1.1,1))"
   ]
  },
  {
   "cell_type": "markdown",
   "metadata": {},
   "source": [
    "Performance relacionada com escala qualitativa de sono e estudo"
   ]
  },
  {
   "cell_type": "code",
   "execution_count": 88,
   "metadata": {},
   "outputs": [
    {
     "data": {
      "text/plain": [
       "<Axes: xlabel='study load', ylabel='academic performance'>"
      ]
     },
     "execution_count": 88,
     "metadata": {},
     "output_type": "execute_result"
    },
    {
     "data": {
      "image/png": "[encoded data removed]",
      "text/plain": [
       "<Figure size 640x480 with 1 Axes>"
      ]
     },
     "metadata": {},
     "output_type": "display_data"
    }
   ],
   "source": [
    "sns.lineplot(data=data, x='study load', y = 'academic performance', errorbar= None)"
   ]
  },
  {
   "cell_type": "code",
   "execution_count": 94,
   "metadata": {},
   "outputs": [
    {
     "data": {
      "text/plain": [
       "<Axes: xlabel='Sleep Quality', ylabel='stress levels'>"
      ]
     },
     "execution_count": 94,
     "metadata": {},
     "output_type": "execute_result"
    },
    {
     "data": {
      "image/png": "[encoded data removed]",
      "text/plain": [
       "<Figure size 640x480 with 1 Axes>"
      ]
     },
     "metadata": {},
     "output_type": "display_data"
    }
   ],
   "source": [
    "sns.lineplot(data=data, x='Sleep Quality', y = 'stress levels', errorbar= None)"
   ]
  }
 ],
 "metadata": {
  "kernelspec": {
   "display_name": "Python 3",
   "language": "python",
   "name": "python3"
  },
  "language_info": {
   "codemirror_mode": {
    "name": "ipython",
    "version": 3
   },
   "file_extension": ".py",
   "mimetype": "text/x-python",
   "name": "python",
   "nbconvert_exporter": "python",
   "pygments_lexer": "ipython3",
   "version": "3.12.2"
  }
 },
 "nbformat": 4,
 "nbformat_minor": 2
}
