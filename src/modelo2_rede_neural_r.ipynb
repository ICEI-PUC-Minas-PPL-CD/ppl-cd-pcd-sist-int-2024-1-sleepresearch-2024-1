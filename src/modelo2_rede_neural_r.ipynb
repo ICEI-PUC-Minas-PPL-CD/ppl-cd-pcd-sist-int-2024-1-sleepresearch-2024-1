{
 "cells": [
  {
   "cell_type": "code",
   "execution_count": 1,
   "metadata": {},
   "outputs": [
    {
     "name": "stderr",
     "output_type": "stream",
     "text": [
      "2024-05-26 00:14:11.262704: I external/local_tsl/tsl/cuda/cudart_stub.cc:32] Could not find cuda drivers on your machine, GPU will not be used.\n",
      "2024-05-26 00:14:11.417957: I external/local_tsl/tsl/cuda/cudart_stub.cc:32] Could not find cuda drivers on your machine, GPU will not be used.\n",
      "2024-05-26 00:14:17.702163: W tensorflow/compiler/tf2tensorrt/utils/py_utils.cc:38] TF-TRT Warning: Could not find TensorRT\n"
     ]
    }
   ],
   "source": [
    "import pandas as pd\n",
    "from sklearn.model_selection import train_test_split\n",
    "from sklearn.preprocessing import MinMaxScaler\n",
    "from tensorflow.keras.models import Sequential\n",
    "from tensorflow.keras.layers import Dense\n",
    "from sklearn.metrics import mean_absolute_error, r2_score\n",
    "import altair as alt"
   ]
  },
  {
   "cell_type": "code",
   "execution_count": 3,
   "metadata": {},
   "outputs": [],
   "source": [
    "# Ler os arquivos CSV em Dataframes Pandas\n",
    "df_performance = pd.read_csv('/home/rhudson/Documentos/PUC/Projeto em ciência de dados I/ppl-cd-pcd-sist-int-2024-1-sleepresearch-2024-1/assets/data/Student_Performance.csv')\n",
    "df_stress = pd.read_csv('/home/rhudson/Documentos/PUC/Projeto em ciência de dados I/ppl-cd-pcd-sist-int-2024-1-sleepresearch-2024-1/assets/data/Student Stress Factors.csv')"
   ]
  },
  {
   "cell_type": "code",
   "execution_count": 4,
   "metadata": {},
   "outputs": [],
   "source": [
    "# Criar uma nova coluna `ID do Estudante` no `df_performance`, atribuindo um ID único inteiro para cada estudante (de 1 a 10000).\n",
    "df_performance['ID do Estudante'] = range(1, len(df_performance) + 1)"
   ]
  },
  {
   "cell_type": "code",
   "execution_count": 5,
   "metadata": {},
   "outputs": [],
   "source": [
    "# Randomiza 520 linhas do `df_performance` e armazená-las em `df_performance_sample`.\n",
    "df_performance_sample = df_performance.sample(n=520, random_state=1)\n"
   ]
  },
  {
   "cell_type": "code",
   "execution_count": 6,
   "metadata": {},
   "outputs": [],
   "source": [
    "# Combinar `df_performance_sample` com `df_stress` com base no índice.\n",
    "df_combined = pd.merge(df_performance_sample, df_stress, left_index=True, right_index=True)\n"
   ]
  },
  {
   "cell_type": "code",
   "execution_count": 25,
   "metadata": {},
   "outputs": [],
   "source": [
    "# Filtrar o dataframe combinado `df_combined` para manter apenas as colunas `Horas de Sono`, `Qualidade do Sono` e `Índice de Desempenho`.\n",
    "#df_combined = df_combined[['Sleep Hours', 'Sleep Quality', 'Performance Index']]\n"
   ]
  },
  {
   "cell_type": "code",
   "execution_count": 26,
   "metadata": {},
   "outputs": [],
   "source": [
    "# Separar os recursos (X) e a variável alvo (y) do `df_combined`.\n",
    "X = df_combined.drop('Performance Index', axis=1)\n",
    "y = df_combined['Performance Index']\n"
   ]
  },
  {
   "cell_type": "code",
   "execution_count": 27,
   "metadata": {},
   "outputs": [],
   "source": [
    "# Dividir os dados em conjuntos de treinamento e teste\n",
    "X_train, X_test, y_train, y_test = train_test_split(X, y, test_size=0.25, random_state=1)\n"
   ]
  },
  {
   "cell_type": "code",
   "execution_count": 28,
   "metadata": {},
   "outputs": [],
   "source": [
    "# Normalizar os recursos usando MinMaxScaler\n",
    "scaler = MinMaxScaler()\n",
    "X_train = scaler.fit_transform(X_train)\n",
    "X_test = scaler.transform(X_test)"
   ]
  },
  {
   "cell_type": "code",
   "execution_count": 29,
   "metadata": {},
   "outputs": [
    {
     "name": "stderr",
     "output_type": "stream",
     "text": [
      "/home/rhudson/.local/lib/python3.10/site-packages/keras/src/layers/core/dense.py:87: UserWarning: Do not pass an `input_shape`/`input_dim` argument to a layer. When using Sequential models, prefer using an `Input(shape)` object as the first layer in the model instead.\n",
      "  super().__init__(activity_regularizer=activity_regularizer, **kwargs)\n"
     ]
    },
    {
     "name": "stdout",
     "output_type": "stream",
     "text": [
      "Epoch 1/100\n",
      "\u001b[1m1/1\u001b[0m \u001b[32m━━━━━━━━━━━━━━━━━━━━\u001b[0m\u001b[37m\u001b[0m \u001b[1m5s\u001b[0m 5s/step - loss: 2878.5632 - mean_absolute_error: 49.9137 - val_loss: 4940.3730 - val_mean_absolute_error: 65.7424\n",
      "Epoch 2/100\n",
      "\u001b[1m1/1\u001b[0m \u001b[32m━━━━━━━━━━━━━━━━━━━━\u001b[0m\u001b[37m\u001b[0m \u001b[1m0s\u001b[0m 249ms/step - loss: 2877.8337 - mean_absolute_error: 49.9068 - val_loss: 4939.6694 - val_mean_absolute_error: 65.7368\n",
      "Epoch 3/100\n",
      "\u001b[1m1/1\u001b[0m \u001b[32m━━━━━━━━━━━━━━━━━━━━\u001b[0m\u001b[37m\u001b[0m \u001b[1m0s\u001b[0m 132ms/step - loss: 2877.1501 - mean_absolute_error: 49.9004 - val_loss: 4938.9351 - val_mean_absolute_error: 65.7309\n",
      "Epoch 4/100\n",
      "\u001b[1m1/1\u001b[0m \u001b[32m━━━━━━━━━━━━━━━━━━━━\u001b[0m\u001b[37m\u001b[0m \u001b[1m0s\u001b[0m 293ms/step - loss: 2876.4512 - mean_absolute_error: 49.8939 - val_loss: 4938.1836 - val_mean_absolute_error: 65.7250\n",
      "Epoch 5/100\n",
      "\u001b[1m1/1\u001b[0m \u001b[32m━━━━━━━━━━━━━━━━━━━━\u001b[0m\u001b[37m\u001b[0m \u001b[1m1s\u001b[0m 555ms/step - loss: 2875.7402 - mean_absolute_error: 49.8872 - val_loss: 4937.4199 - val_mean_absolute_error: 65.7189\n",
      "Epoch 6/100\n",
      "\u001b[1m1/1\u001b[0m \u001b[32m━━━━━━━━━━━━━━━━━━━━\u001b[0m\u001b[37m\u001b[0m \u001b[1m0s\u001b[0m 302ms/step - loss: 2875.0195 - mean_absolute_error: 49.8804 - val_loss: 4936.6450 - val_mean_absolute_error: 65.7128\n",
      "Epoch 7/100\n",
      "\u001b[1m1/1\u001b[0m \u001b[32m━━━━━━━━━━━━━━━━━━━━\u001b[0m\u001b[37m\u001b[0m \u001b[1m0s\u001b[0m 211ms/step - loss: 2874.2974 - mean_absolute_error: 49.8735 - val_loss: 4935.8633 - val_mean_absolute_error: 65.7067\n",
      "Epoch 8/100\n",
      "\u001b[1m1/1\u001b[0m \u001b[32m━━━━━━━━━━━━━━━━━━━━\u001b[0m\u001b[37m\u001b[0m \u001b[1m0s\u001b[0m 194ms/step - loss: 2873.5706 - mean_absolute_error: 49.8667 - val_loss: 4935.0742 - val_mean_absolute_error: 65.7005\n",
      "Epoch 9/100\n",
      "\u001b[1m1/1\u001b[0m \u001b[32m━━━━━━━━━━━━━━━━━━━━\u001b[0m\u001b[37m\u001b[0m \u001b[1m0s\u001b[0m 321ms/step - loss: 2872.8386 - mean_absolute_error: 49.8597 - val_loss: 4934.2749 - val_mean_absolute_error: 65.6942\n",
      "Epoch 10/100\n",
      "\u001b[1m1/1\u001b[0m \u001b[32m━━━━━━━━━━━━━━━━━━━━\u001b[0m\u001b[37m\u001b[0m \u001b[1m0s\u001b[0m 198ms/step - loss: 2872.1018 - mean_absolute_error: 49.8527 - val_loss: 4933.4658 - val_mean_absolute_error: 65.6879\n",
      "Epoch 11/100\n",
      "\u001b[1m1/1\u001b[0m \u001b[32m━━━━━━━━━━━━━━━━━━━━\u001b[0m\u001b[37m\u001b[0m \u001b[1m0s\u001b[0m 313ms/step - loss: 2871.3594 - mean_absolute_error: 49.8456 - val_loss: 4932.6475 - val_mean_absolute_error: 65.6814\n",
      "Epoch 12/100\n",
      "\u001b[1m1/1\u001b[0m \u001b[32m━━━━━━━━━━━━━━━━━━━━\u001b[0m\u001b[37m\u001b[0m \u001b[1m0s\u001b[0m 346ms/step - loss: 2870.6099 - mean_absolute_error: 49.8385 - val_loss: 4931.8198 - val_mean_absolute_error: 65.6749\n",
      "Epoch 13/100\n",
      "\u001b[1m1/1\u001b[0m \u001b[32m━━━━━━━━━━━━━━━━━━━━\u001b[0m\u001b[37m\u001b[0m \u001b[1m0s\u001b[0m 455ms/step - loss: 2869.8540 - mean_absolute_error: 49.8313 - val_loss: 4930.9824 - val_mean_absolute_error: 65.6683\n",
      "Epoch 14/100\n",
      "\u001b[1m1/1\u001b[0m \u001b[32m━━━━━━━━━━━━━━━━━━━━\u001b[0m\u001b[37m\u001b[0m \u001b[1m0s\u001b[0m 351ms/step - loss: 2869.0942 - mean_absolute_error: 49.8241 - val_loss: 4930.1353 - val_mean_absolute_error: 65.6617\n",
      "Epoch 15/100\n",
      "\u001b[1m1/1\u001b[0m \u001b[32m━━━━━━━━━━━━━━━━━━━━\u001b[0m\u001b[37m\u001b[0m \u001b[1m0s\u001b[0m 256ms/step - loss: 2868.3308 - mean_absolute_error: 49.8168 - val_loss: 4929.2783 - val_mean_absolute_error: 65.6549\n",
      "Epoch 16/100\n",
      "\u001b[1m1/1\u001b[0m \u001b[32m━━━━━━━━━━━━━━━━━━━━\u001b[0m\u001b[37m\u001b[0m \u001b[1m0s\u001b[0m 257ms/step - loss: 2867.5608 - mean_absolute_error: 49.8094 - val_loss: 4928.4121 - val_mean_absolute_error: 65.6481\n",
      "Epoch 17/100\n",
      "\u001b[1m1/1\u001b[0m \u001b[32m━━━━━━━━━━━━━━━━━━━━\u001b[0m\u001b[37m\u001b[0m \u001b[1m0s\u001b[0m 190ms/step - loss: 2866.7827 - mean_absolute_error: 49.8020 - val_loss: 4927.5352 - val_mean_absolute_error: 65.6412\n",
      "Epoch 18/100\n",
      "\u001b[1m1/1\u001b[0m \u001b[32m━━━━━━━━━━━━━━━━━━━━\u001b[0m\u001b[37m\u001b[0m \u001b[1m0s\u001b[0m 162ms/step - loss: 2865.9961 - mean_absolute_error: 49.7944 - val_loss: 4926.6494 - val_mean_absolute_error: 65.6342\n",
      "Epoch 19/100\n",
      "\u001b[1m1/1\u001b[0m \u001b[32m━━━━━━━━━━━━━━━━━━━━\u001b[0m\u001b[37m\u001b[0m \u001b[1m0s\u001b[0m 144ms/step - loss: 2865.2014 - mean_absolute_error: 49.7868 - val_loss: 4925.7524 - val_mean_absolute_error: 65.6271\n",
      "Epoch 20/100\n",
      "\u001b[1m1/1\u001b[0m \u001b[32m━━━━━━━━━━━━━━━━━━━━\u001b[0m\u001b[37m\u001b[0m \u001b[1m0s\u001b[0m 128ms/step - loss: 2864.3982 - mean_absolute_error: 49.7791 - val_loss: 4924.8457 - val_mean_absolute_error: 65.6200\n",
      "Epoch 21/100\n",
      "\u001b[1m1/1\u001b[0m \u001b[32m━━━━━━━━━━━━━━━━━━━━\u001b[0m\u001b[37m\u001b[0m \u001b[1m0s\u001b[0m 157ms/step - loss: 2863.5872 - mean_absolute_error: 49.7713 - val_loss: 4923.9292 - val_mean_absolute_error: 65.6127\n",
      "Epoch 22/100\n",
      "\u001b[1m1/1\u001b[0m \u001b[32m━━━━━━━━━━━━━━━━━━━━\u001b[0m\u001b[37m\u001b[0m \u001b[1m0s\u001b[0m 316ms/step - loss: 2862.7693 - mean_absolute_error: 49.7635 - val_loss: 4923.0015 - val_mean_absolute_error: 65.6054\n",
      "Epoch 23/100\n",
      "\u001b[1m1/1\u001b[0m \u001b[32m━━━━━━━━━━━━━━━━━━━━\u001b[0m\u001b[37m\u001b[0m \u001b[1m0s\u001b[0m 210ms/step - loss: 2861.9431 - mean_absolute_error: 49.7556 - val_loss: 4922.0625 - val_mean_absolute_error: 65.5980\n",
      "Epoch 24/100\n",
      "\u001b[1m1/1\u001b[0m \u001b[32m━━━━━━━━━━━━━━━━━━━━\u001b[0m\u001b[37m\u001b[0m \u001b[1m0s\u001b[0m 143ms/step - loss: 2861.1094 - mean_absolute_error: 49.7476 - val_loss: 4921.1138 - val_mean_absolute_error: 65.5905\n",
      "Epoch 25/100\n",
      "\u001b[1m1/1\u001b[0m \u001b[32m━━━━━━━━━━━━━━━━━━━━\u001b[0m\u001b[37m\u001b[0m \u001b[1m0s\u001b[0m 362ms/step - loss: 2860.2664 - mean_absolute_error: 49.7395 - val_loss: 4920.1533 - val_mean_absolute_error: 65.5829\n",
      "Epoch 26/100\n",
      "\u001b[1m1/1\u001b[0m \u001b[32m━━━━━━━━━━━━━━━━━━━━\u001b[0m\u001b[37m\u001b[0m \u001b[1m0s\u001b[0m 230ms/step - loss: 2859.4141 - mean_absolute_error: 49.7313 - val_loss: 4919.1816 - val_mean_absolute_error: 65.5752\n",
      "Epoch 27/100\n",
      "\u001b[1m1/1\u001b[0m \u001b[32m━━━━━━━━━━━━━━━━━━━━\u001b[0m\u001b[37m\u001b[0m \u001b[1m0s\u001b[0m 206ms/step - loss: 2858.5530 - mean_absolute_error: 49.7230 - val_loss: 4918.1997 - val_mean_absolute_error: 65.5674\n",
      "Epoch 28/100\n",
      "\u001b[1m1/1\u001b[0m \u001b[32m━━━━━━━━━━━━━━━━━━━━\u001b[0m\u001b[37m\u001b[0m \u001b[1m0s\u001b[0m 278ms/step - loss: 2857.6821 - mean_absolute_error: 49.7147 - val_loss: 4917.2051 - val_mean_absolute_error: 65.5595\n",
      "Epoch 29/100\n",
      "\u001b[1m1/1\u001b[0m \u001b[32m━━━━━━━━━━━━━━━━━━━━\u001b[0m\u001b[37m\u001b[0m \u001b[1m0s\u001b[0m 217ms/step - loss: 2856.8013 - mean_absolute_error: 49.7062 - val_loss: 4916.1997 - val_mean_absolute_error: 65.5515\n",
      "Epoch 30/100\n",
      "\u001b[1m1/1\u001b[0m \u001b[32m━━━━━━━━━━━━━━━━━━━━\u001b[0m\u001b[37m\u001b[0m \u001b[1m0s\u001b[0m 135ms/step - loss: 2855.9106 - mean_absolute_error: 49.6976 - val_loss: 4915.1816 - val_mean_absolute_error: 65.5434\n",
      "Epoch 31/100\n",
      "\u001b[1m1/1\u001b[0m \u001b[32m━━━━━━━━━━━━━━━━━━━━\u001b[0m\u001b[37m\u001b[0m \u001b[1m0s\u001b[0m 121ms/step - loss: 2855.0095 - mean_absolute_error: 49.6890 - val_loss: 4914.1523 - val_mean_absolute_error: 65.5353\n",
      "Epoch 32/100\n",
      "\u001b[1m1/1\u001b[0m \u001b[32m━━━━━━━━━━━━━━━━━━━━\u001b[0m\u001b[37m\u001b[0m \u001b[1m0s\u001b[0m 263ms/step - loss: 2854.0981 - mean_absolute_error: 49.6802 - val_loss: 4913.1108 - val_mean_absolute_error: 65.5270\n",
      "Epoch 33/100\n",
      "\u001b[1m1/1\u001b[0m \u001b[32m━━━━━━━━━━━━━━━━━━━━\u001b[0m\u001b[37m\u001b[0m \u001b[1m0s\u001b[0m 141ms/step - loss: 2853.1726 - mean_absolute_error: 49.6713 - val_loss: 4912.0562 - val_mean_absolute_error: 65.5186\n",
      "Epoch 34/100\n",
      "\u001b[1m1/1\u001b[0m \u001b[32m━━━━━━━━━━━━━━━━━━━━\u001b[0m\u001b[37m\u001b[0m \u001b[1m0s\u001b[0m 156ms/step - loss: 2852.2087 - mean_absolute_error: 49.6619 - val_loss: 4910.9878 - val_mean_absolute_error: 65.5101\n",
      "Epoch 35/100\n",
      "\u001b[1m1/1\u001b[0m \u001b[32m━━━━━━━━━━━━━━━━━━━━\u001b[0m\u001b[37m\u001b[0m \u001b[1m0s\u001b[0m 127ms/step - loss: 2851.2319 - mean_absolute_error: 49.6524 - val_loss: 4909.9067 - val_mean_absolute_error: 65.5015\n",
      "Epoch 36/100\n",
      "\u001b[1m1/1\u001b[0m \u001b[32m━━━━━━━━━━━━━━━━━━━━\u001b[0m\u001b[37m\u001b[0m \u001b[1m0s\u001b[0m 291ms/step - loss: 2850.2419 - mean_absolute_error: 49.6428 - val_loss: 4908.8125 - val_mean_absolute_error: 65.4927\n",
      "Epoch 37/100\n",
      "\u001b[1m1/1\u001b[0m \u001b[32m━━━━━━━━━━━━━━━━━━━━\u001b[0m\u001b[37m\u001b[0m \u001b[1m0s\u001b[0m 194ms/step - loss: 2849.2397 - mean_absolute_error: 49.6330 - val_loss: 4907.7041 - val_mean_absolute_error: 65.4839\n",
      "Epoch 38/100\n",
      "\u001b[1m1/1\u001b[0m \u001b[32m━━━━━━━━━━━━━━━━━━━━\u001b[0m\u001b[37m\u001b[0m \u001b[1m0s\u001b[0m 417ms/step - loss: 2848.2241 - mean_absolute_error: 49.6231 - val_loss: 4906.5825 - val_mean_absolute_error: 65.4749\n",
      "Epoch 39/100\n",
      "\u001b[1m1/1\u001b[0m \u001b[32m━━━━━━━━━━━━━━━━━━━━\u001b[0m\u001b[37m\u001b[0m \u001b[1m0s\u001b[0m 196ms/step - loss: 2847.1953 - mean_absolute_error: 49.6130 - val_loss: 4905.4482 - val_mean_absolute_error: 65.4659\n",
      "Epoch 40/100\n",
      "\u001b[1m1/1\u001b[0m \u001b[32m━━━━━━━━━━━━━━━━━━━━\u001b[0m\u001b[37m\u001b[0m \u001b[1m0s\u001b[0m 194ms/step - loss: 2846.1545 - mean_absolute_error: 49.6029 - val_loss: 4904.2993 - val_mean_absolute_error: 65.4566\n",
      "Epoch 41/100\n",
      "\u001b[1m1/1\u001b[0m \u001b[32m━━━━━━━━━━━━━━━━━━━━\u001b[0m\u001b[37m\u001b[0m \u001b[1m0s\u001b[0m 162ms/step - loss: 2845.1003 - mean_absolute_error: 49.5926 - val_loss: 4903.1372 - val_mean_absolute_error: 65.4473\n",
      "Epoch 42/100\n",
      "\u001b[1m1/1\u001b[0m \u001b[32m━━━━━━━━━━━━━━━━━━━━\u001b[0m\u001b[37m\u001b[0m \u001b[1m0s\u001b[0m 124ms/step - loss: 2844.0334 - mean_absolute_error: 49.5821 - val_loss: 4901.9614 - val_mean_absolute_error: 65.4379\n",
      "Epoch 43/100\n",
      "\u001b[1m1/1\u001b[0m \u001b[32m━━━━━━━━━━━━━━━━━━━━\u001b[0m\u001b[37m\u001b[0m \u001b[1m0s\u001b[0m 150ms/step - loss: 2842.9543 - mean_absolute_error: 49.5716 - val_loss: 4900.7710 - val_mean_absolute_error: 65.4284\n",
      "Epoch 44/100\n",
      "\u001b[1m1/1\u001b[0m \u001b[32m━━━━━━━━━━━━━━━━━━━━\u001b[0m\u001b[37m\u001b[0m \u001b[1m0s\u001b[0m 285ms/step - loss: 2841.8618 - mean_absolute_error: 49.5609 - val_loss: 4899.5674 - val_mean_absolute_error: 65.4187\n",
      "Epoch 45/100\n",
      "\u001b[1m1/1\u001b[0m \u001b[32m━━━━━━━━━━━━━━━━━━━━\u001b[0m\u001b[37m\u001b[0m \u001b[1m0s\u001b[0m 113ms/step - loss: 2840.7556 - mean_absolute_error: 49.5501 - val_loss: 4898.3496 - val_mean_absolute_error: 65.4089\n",
      "Epoch 46/100\n",
      "\u001b[1m1/1\u001b[0m \u001b[32m━━━━━━━━━━━━━━━━━━━━\u001b[0m\u001b[37m\u001b[0m \u001b[1m0s\u001b[0m 157ms/step - loss: 2839.6362 - mean_absolute_error: 49.5391 - val_loss: 4897.1177 - val_mean_absolute_error: 65.3990\n",
      "Epoch 47/100\n",
      "\u001b[1m1/1\u001b[0m \u001b[32m━━━━━━━━━━━━━━━━━━━━\u001b[0m\u001b[37m\u001b[0m \u001b[1m0s\u001b[0m 289ms/step - loss: 2838.5032 - mean_absolute_error: 49.5280 - val_loss: 4895.8711 - val_mean_absolute_error: 65.3890\n",
      "Epoch 48/100\n",
      "\u001b[1m1/1\u001b[0m \u001b[32m━━━━━━━━━━━━━━━━━━━━\u001b[0m\u001b[37m\u001b[0m \u001b[1m0s\u001b[0m 119ms/step - loss: 2837.3560 - mean_absolute_error: 49.5168 - val_loss: 4894.6113 - val_mean_absolute_error: 65.3789\n",
      "Epoch 49/100\n",
      "\u001b[1m1/1\u001b[0m \u001b[32m━━━━━━━━━━━━━━━━━━━━\u001b[0m\u001b[37m\u001b[0m \u001b[1m0s\u001b[0m 119ms/step - loss: 2836.1951 - mean_absolute_error: 49.5054 - val_loss: 4893.3364 - val_mean_absolute_error: 65.3686\n",
      "Epoch 50/100\n",
      "\u001b[1m1/1\u001b[0m \u001b[32m━━━━━━━━━━━━━━━━━━━━\u001b[0m\u001b[37m\u001b[0m \u001b[1m0s\u001b[0m 150ms/step - loss: 2835.0203 - mean_absolute_error: 49.4938 - val_loss: 4892.0469 - val_mean_absolute_error: 65.3582\n",
      "Epoch 51/100\n",
      "\u001b[1m1/1\u001b[0m \u001b[32m━━━━━━━━━━━━━━━━━━━━\u001b[0m\u001b[37m\u001b[0m \u001b[1m0s\u001b[0m 178ms/step - loss: 2833.8320 - mean_absolute_error: 49.4822 - val_loss: 4890.7432 - val_mean_absolute_error: 65.3477\n",
      "Epoch 52/100\n",
      "\u001b[1m1/1\u001b[0m \u001b[32m━━━━━━━━━━━━━━━━━━━━\u001b[0m\u001b[37m\u001b[0m \u001b[1m0s\u001b[0m 145ms/step - loss: 2832.6301 - mean_absolute_error: 49.4704 - val_loss: 4889.4243 - val_mean_absolute_error: 65.3371\n",
      "Epoch 53/100\n",
      "\u001b[1m1/1\u001b[0m \u001b[32m━━━━━━━━━━━━━━━━━━━━\u001b[0m\u001b[37m\u001b[0m \u001b[1m0s\u001b[0m 115ms/step - loss: 2831.4141 - mean_absolute_error: 49.4584 - val_loss: 4888.0913 - val_mean_absolute_error: 65.3263\n",
      "Epoch 54/100\n",
      "\u001b[1m1/1\u001b[0m \u001b[32m━━━━━━━━━━━━━━━━━━━━\u001b[0m\u001b[37m\u001b[0m \u001b[1m0s\u001b[0m 192ms/step - loss: 2830.1836 - mean_absolute_error: 49.4464 - val_loss: 4886.7427 - val_mean_absolute_error: 65.3154\n",
      "Epoch 55/100\n",
      "\u001b[1m1/1\u001b[0m \u001b[32m━━━━━━━━━━━━━━━━━━━━\u001b[0m\u001b[37m\u001b[0m \u001b[1m0s\u001b[0m 341ms/step - loss: 2828.9390 - mean_absolute_error: 49.4341 - val_loss: 4885.3794 - val_mean_absolute_error: 65.3044\n",
      "Epoch 56/100\n",
      "\u001b[1m1/1\u001b[0m \u001b[32m━━━━━━━━━━━━━━━━━━━━\u001b[0m\u001b[37m\u001b[0m \u001b[1m0s\u001b[0m 149ms/step - loss: 2827.6797 - mean_absolute_error: 49.4217 - val_loss: 4884.0010 - val_mean_absolute_error: 65.2932\n",
      "Epoch 57/100\n",
      "\u001b[1m1/1\u001b[0m \u001b[32m━━━━━━━━━━━━━━━━━━━━\u001b[0m\u001b[37m\u001b[0m \u001b[1m0s\u001b[0m 110ms/step - loss: 2826.4055 - mean_absolute_error: 49.4092 - val_loss: 4882.6074 - val_mean_absolute_error: 65.2820\n",
      "Epoch 58/100\n",
      "\u001b[1m1/1\u001b[0m \u001b[32m━━━━━━━━━━━━━━━━━━━━\u001b[0m\u001b[37m\u001b[0m \u001b[1m0s\u001b[0m 162ms/step - loss: 2825.1167 - mean_absolute_error: 49.3965 - val_loss: 4881.1982 - val_mean_absolute_error: 65.2706\n",
      "Epoch 59/100\n",
      "\u001b[1m1/1\u001b[0m \u001b[32m━━━━━━━━━━━━━━━━━━━━\u001b[0m\u001b[37m\u001b[0m \u001b[1m0s\u001b[0m 165ms/step - loss: 2823.8123 - mean_absolute_error: 49.3837 - val_loss: 4879.7734 - val_mean_absolute_error: 65.2590\n",
      "Epoch 60/100\n",
      "\u001b[1m1/1\u001b[0m \u001b[32m━━━━━━━━━━━━━━━━━━━━\u001b[0m\u001b[37m\u001b[0m \u001b[1m0s\u001b[0m 134ms/step - loss: 2822.4929 - mean_absolute_error: 49.3707 - val_loss: 4878.3345 - val_mean_absolute_error: 65.2474\n",
      "Epoch 61/100\n",
      "\u001b[1m1/1\u001b[0m \u001b[32m━━━━━━━━━━━━━━━━━━━━\u001b[0m\u001b[37m\u001b[0m \u001b[1m0s\u001b[0m 124ms/step - loss: 2821.1587 - mean_absolute_error: 49.3576 - val_loss: 4876.8794 - val_mean_absolute_error: 65.2356\n",
      "Epoch 62/100\n",
      "\u001b[1m1/1\u001b[0m \u001b[32m━━━━━━━━━━━━━━━━━━━━\u001b[0m\u001b[37m\u001b[0m \u001b[1m0s\u001b[0m 153ms/step - loss: 2819.8091 - mean_absolute_error: 49.3443 - val_loss: 4875.4087 - val_mean_absolute_error: 65.2236\n",
      "Epoch 63/100\n",
      "\u001b[1m1/1\u001b[0m \u001b[32m━━━━━━━━━━━━━━━━━━━━\u001b[0m\u001b[37m\u001b[0m \u001b[1m0s\u001b[0m 296ms/step - loss: 2818.4441 - mean_absolute_error: 49.3308 - val_loss: 4873.9229 - val_mean_absolute_error: 65.2116\n",
      "Epoch 64/100\n",
      "\u001b[1m1/1\u001b[0m \u001b[32m━━━━━━━━━━━━━━━━━━━━\u001b[0m\u001b[37m\u001b[0m \u001b[1m0s\u001b[0m 175ms/step - loss: 2817.0630 - mean_absolute_error: 49.3172 - val_loss: 4872.4199 - val_mean_absolute_error: 65.1994\n",
      "Epoch 65/100\n",
      "\u001b[1m1/1\u001b[0m \u001b[32m━━━━━━━━━━━━━━━━━━━━\u001b[0m\u001b[37m\u001b[0m \u001b[1m0s\u001b[0m 138ms/step - loss: 2815.6667 - mean_absolute_error: 49.3034 - val_loss: 4870.9023 - val_mean_absolute_error: 65.1870\n",
      "Epoch 66/100\n",
      "\u001b[1m1/1\u001b[0m \u001b[32m━━━━━━━━━━━━━━━━━━━━\u001b[0m\u001b[37m\u001b[0m \u001b[1m0s\u001b[0m 277ms/step - loss: 2814.2554 - mean_absolute_error: 49.2895 - val_loss: 4869.3682 - val_mean_absolute_error: 65.1745\n",
      "Epoch 67/100\n",
      "\u001b[1m1/1\u001b[0m \u001b[32m━━━━━━━━━━━━━━━━━━━━\u001b[0m\u001b[37m\u001b[0m \u001b[1m0s\u001b[0m 283ms/step - loss: 2812.8284 - mean_absolute_error: 49.2754 - val_loss: 4867.8188 - val_mean_absolute_error: 65.1619\n",
      "Epoch 68/100\n",
      "\u001b[1m1/1\u001b[0m \u001b[32m━━━━━━━━━━━━━━━━━━━━\u001b[0m\u001b[37m\u001b[0m \u001b[1m0s\u001b[0m 269ms/step - loss: 2811.3860 - mean_absolute_error: 49.2612 - val_loss: 4866.2529 - val_mean_absolute_error: 65.1492\n",
      "Epoch 69/100\n",
      "\u001b[1m1/1\u001b[0m \u001b[32m━━━━━━━━━━━━━━━━━━━━\u001b[0m\u001b[37m\u001b[0m \u001b[1m0s\u001b[0m 156ms/step - loss: 2809.9275 - mean_absolute_error: 49.2468 - val_loss: 4864.6709 - val_mean_absolute_error: 65.1363\n",
      "Epoch 70/100\n",
      "\u001b[1m1/1\u001b[0m \u001b[32m━━━━━━━━━━━━━━━━━━━━\u001b[0m\u001b[37m\u001b[0m \u001b[1m0s\u001b[0m 207ms/step - loss: 2808.4526 - mean_absolute_error: 49.2322 - val_loss: 4863.0732 - val_mean_absolute_error: 65.1233\n",
      "Epoch 71/100\n",
      "\u001b[1m1/1\u001b[0m \u001b[32m━━━━━━━━━━━━━━━━━━━━\u001b[0m\u001b[37m\u001b[0m \u001b[1m0s\u001b[0m 240ms/step - loss: 2806.9626 - mean_absolute_error: 49.2175 - val_loss: 4861.4585 - val_mean_absolute_error: 65.1101\n",
      "Epoch 72/100\n",
      "\u001b[1m1/1\u001b[0m \u001b[32m━━━━━━━━━━━━━━━━━━━━\u001b[0m\u001b[37m\u001b[0m \u001b[1m0s\u001b[0m 137ms/step - loss: 2805.4573 - mean_absolute_error: 49.2026 - val_loss: 4859.8281 - val_mean_absolute_error: 65.0968\n",
      "Epoch 73/100\n",
      "\u001b[1m1/1\u001b[0m \u001b[32m━━━━━━━━━━━━━━━━━━━━\u001b[0m\u001b[37m\u001b[0m \u001b[1m0s\u001b[0m 239ms/step - loss: 2803.9358 - mean_absolute_error: 49.1875 - val_loss: 4858.1807 - val_mean_absolute_error: 65.0833\n",
      "Epoch 74/100\n",
      "\u001b[1m1/1\u001b[0m \u001b[32m━━━━━━━━━━━━━━━━━━━━\u001b[0m\u001b[37m\u001b[0m \u001b[1m0s\u001b[0m 165ms/step - loss: 2802.3972 - mean_absolute_error: 49.1723 - val_loss: 4856.5176 - val_mean_absolute_error: 65.0697\n",
      "Epoch 75/100\n",
      "\u001b[1m1/1\u001b[0m \u001b[32m━━━━━━━━━━━━━━━━━━━━\u001b[0m\u001b[37m\u001b[0m \u001b[1m0s\u001b[0m 135ms/step - loss: 2800.8445 - mean_absolute_error: 49.1569 - val_loss: 4854.8374 - val_mean_absolute_error: 65.0560\n",
      "Epoch 76/100\n",
      "\u001b[1m1/1\u001b[0m \u001b[32m━━━━━━━━━━━━━━━━━━━━\u001b[0m\u001b[37m\u001b[0m \u001b[1m0s\u001b[0m 114ms/step - loss: 2799.2751 - mean_absolute_error: 49.1414 - val_loss: 4853.1406 - val_mean_absolute_error: 65.0421\n",
      "Epoch 77/100\n",
      "\u001b[1m1/1\u001b[0m \u001b[32m━━━━━━━━━━━━━━━━━━━━\u001b[0m\u001b[37m\u001b[0m \u001b[1m0s\u001b[0m 111ms/step - loss: 2797.6887 - mean_absolute_error: 49.1256 - val_loss: 4851.4272 - val_mean_absolute_error: 65.0281\n",
      "Epoch 78/100\n",
      "\u001b[1m1/1\u001b[0m \u001b[32m━━━━━━━━━━━━━━━━━━━━\u001b[0m\u001b[37m\u001b[0m \u001b[1m0s\u001b[0m 139ms/step - loss: 2796.0859 - mean_absolute_error: 49.1097 - val_loss: 4849.6973 - val_mean_absolute_error: 65.0139\n",
      "Epoch 79/100\n",
      "\u001b[1m1/1\u001b[0m \u001b[32m━━━━━━━━━━━━━━━━━━━━\u001b[0m\u001b[37m\u001b[0m \u001b[1m0s\u001b[0m 113ms/step - loss: 2794.4663 - mean_absolute_error: 49.0937 - val_loss: 4847.9507 - val_mean_absolute_error: 64.9996\n",
      "Epoch 80/100\n",
      "\u001b[1m1/1\u001b[0m \u001b[32m━━━━━━━━━━━━━━━━━━━━\u001b[0m\u001b[37m\u001b[0m \u001b[1m0s\u001b[0m 156ms/step - loss: 2792.8298 - mean_absolute_error: 49.0774 - val_loss: 4846.1865 - val_mean_absolute_error: 64.9851\n",
      "Epoch 81/100\n",
      "\u001b[1m1/1\u001b[0m \u001b[32m━━━━━━━━━━━━━━━━━━━━\u001b[0m\u001b[37m\u001b[0m \u001b[1m0s\u001b[0m 117ms/step - loss: 2791.1755 - mean_absolute_error: 49.0610 - val_loss: 4844.4067 - val_mean_absolute_error: 64.9705\n",
      "Epoch 82/100\n",
      "\u001b[1m1/1\u001b[0m \u001b[32m━━━━━━━━━━━━━━━━━━━━\u001b[0m\u001b[37m\u001b[0m \u001b[1m0s\u001b[0m 135ms/step - loss: 2789.5051 - mean_absolute_error: 49.0444 - val_loss: 4842.6084 - val_mean_absolute_error: 64.9557\n",
      "Epoch 83/100\n",
      "\u001b[1m1/1\u001b[0m \u001b[32m━━━━━━━━━━━━━━━━━━━━\u001b[0m\u001b[37m\u001b[0m \u001b[1m0s\u001b[0m 108ms/step - loss: 2787.8169 - mean_absolute_error: 49.0276 - val_loss: 4840.7944 - val_mean_absolute_error: 64.9408\n",
      "Epoch 84/100\n",
      "\u001b[1m1/1\u001b[0m \u001b[32m━━━━━━━━━━━━━━━━━━━━\u001b[0m\u001b[37m\u001b[0m \u001b[1m0s\u001b[0m 141ms/step - loss: 2786.1121 - mean_absolute_error: 49.0107 - val_loss: 4838.9624 - val_mean_absolute_error: 64.9257\n",
      "Epoch 85/100\n",
      "\u001b[1m1/1\u001b[0m \u001b[32m━━━━━━━━━━━━━━━━━━━━\u001b[0m\u001b[37m\u001b[0m \u001b[1m0s\u001b[0m 110ms/step - loss: 2784.3894 - mean_absolute_error: 48.9935 - val_loss: 4837.1138 - val_mean_absolute_error: 64.9105\n",
      "Epoch 86/100\n",
      "\u001b[1m1/1\u001b[0m \u001b[32m━━━━━━━━━━━━━━━━━━━━\u001b[0m\u001b[37m\u001b[0m \u001b[1m0s\u001b[0m 115ms/step - loss: 2782.6501 - mean_absolute_error: 48.9762 - val_loss: 4835.2480 - val_mean_absolute_error: 64.8951\n",
      "Epoch 87/100\n",
      "\u001b[1m1/1\u001b[0m \u001b[32m━━━━━━━━━━━━━━━━━━━━\u001b[0m\u001b[37m\u001b[0m \u001b[1m0s\u001b[0m 122ms/step - loss: 2780.8928 - mean_absolute_error: 48.9587 - val_loss: 4833.3652 - val_mean_absolute_error: 64.8796\n",
      "Epoch 88/100\n",
      "\u001b[1m1/1\u001b[0m \u001b[32m━━━━━━━━━━━━━━━━━━━━\u001b[0m\u001b[37m\u001b[0m \u001b[1m0s\u001b[0m 140ms/step - loss: 2779.0901 - mean_absolute_error: 48.9408 - val_loss: 4831.4629 - val_mean_absolute_error: 64.8639\n",
      "Epoch 89/100\n",
      "\u001b[1m1/1\u001b[0m \u001b[32m━━━━━━━━━━━━━━━━━━━━\u001b[0m\u001b[37m\u001b[0m \u001b[1m0s\u001b[0m 103ms/step - loss: 2777.2371 - mean_absolute_error: 48.9224 - val_loss: 4829.5420 - val_mean_absolute_error: 64.8480\n",
      "Epoch 90/100\n",
      "\u001b[1m1/1\u001b[0m \u001b[32m━━━━━━━━━━━━━━━━━━━━\u001b[0m\u001b[37m\u001b[0m \u001b[1m0s\u001b[0m 134ms/step - loss: 2775.3606 - mean_absolute_error: 48.9037 - val_loss: 4827.6016 - val_mean_absolute_error: 64.8319\n",
      "Epoch 91/100\n",
      "\u001b[1m1/1\u001b[0m \u001b[32m━━━━━━━━━━━━━━━━━━━━\u001b[0m\u001b[37m\u001b[0m \u001b[1m0s\u001b[0m 118ms/step - loss: 2773.4604 - mean_absolute_error: 48.8848 - val_loss: 4825.6440 - val_mean_absolute_error: 64.8157\n",
      "Epoch 92/100\n",
      "\u001b[1m1/1\u001b[0m \u001b[32m━━━━━━━━━━━━━━━━━━━━\u001b[0m\u001b[37m\u001b[0m \u001b[1m0s\u001b[0m 225ms/step - loss: 2771.5378 - mean_absolute_error: 48.8656 - val_loss: 4823.6665 - val_mean_absolute_error: 64.7993\n",
      "Epoch 93/100\n",
      "\u001b[1m1/1\u001b[0m \u001b[32m━━━━━━━━━━━━━━━━━━━━\u001b[0m\u001b[37m\u001b[0m \u001b[1m0s\u001b[0m 335ms/step - loss: 2769.5925 - mean_absolute_error: 48.8462 - val_loss: 4821.6709 - val_mean_absolute_error: 64.7827\n",
      "Epoch 94/100\n",
      "\u001b[1m1/1\u001b[0m \u001b[32m━━━━━━━━━━━━━━━━━━━━\u001b[0m\u001b[37m\u001b[0m \u001b[1m0s\u001b[0m 296ms/step - loss: 2767.6252 - mean_absolute_error: 48.8266 - val_loss: 4819.6572 - val_mean_absolute_error: 64.7660\n",
      "Epoch 95/100\n",
      "\u001b[1m1/1\u001b[0m \u001b[32m━━━━━━━━━━━━━━━━━━━━\u001b[0m\u001b[37m\u001b[0m \u001b[1m0s\u001b[0m 169ms/step - loss: 2765.6355 - mean_absolute_error: 48.8068 - val_loss: 4817.4727 - val_mean_absolute_error: 64.7483\n",
      "Epoch 96/100\n",
      "\u001b[1m1/1\u001b[0m \u001b[32m━━━━━━━━━━━━━━━━━━━━\u001b[0m\u001b[37m\u001b[0m \u001b[1m0s\u001b[0m 150ms/step - loss: 2763.5547 - mean_absolute_error: 48.7862 - val_loss: 4814.9160 - val_mean_absolute_error: 64.7284\n",
      "Epoch 97/100\n",
      "\u001b[1m1/1\u001b[0m \u001b[32m━━━━━━━━━━━━━━━━━━━━\u001b[0m\u001b[37m\u001b[0m \u001b[1m0s\u001b[0m 117ms/step - loss: 2761.2795 - mean_absolute_error: 48.7643 - val_loss: 4812.3091 - val_mean_absolute_error: 64.7081\n",
      "Epoch 98/100\n",
      "\u001b[1m1/1\u001b[0m \u001b[32m━━━━━━━━━━━━━━━━━━━━\u001b[0m\u001b[37m\u001b[0m \u001b[1m0s\u001b[0m 250ms/step - loss: 2758.9597 - mean_absolute_error: 48.7419 - val_loss: 4809.6562 - val_mean_absolute_error: 64.6875\n",
      "Epoch 99/100\n",
      "\u001b[1m1/1\u001b[0m \u001b[32m━━━━━━━━━━━━━━━━━━━━\u001b[0m\u001b[37m\u001b[0m \u001b[1m0s\u001b[0m 123ms/step - loss: 2756.5981 - mean_absolute_error: 48.7191 - val_loss: 4806.9580 - val_mean_absolute_error: 64.6666\n",
      "Epoch 100/100\n",
      "\u001b[1m1/1\u001b[0m \u001b[32m━━━━━━━━━━━━━━━━━━━━\u001b[0m\u001b[37m\u001b[0m \u001b[1m0s\u001b[0m 106ms/step - loss: 2754.1968 - mean_absolute_error: 48.6959 - val_loss: 4804.2197 - val_mean_absolute_error: 64.6453\n"
     ]
    }
   ],
   "source": [
    "# Construir, compilar e treinar um modelo de rede neural sequencial\n",
    "model = Sequential()\n",
    "model.add(Dense(X.shape[1], input_dim=X.shape[1], activation='relu'))  # Input layer\n",
    "model.add(Dense(64, activation='relu'))  # Hidden layer\n",
    "model.add(Dense(1, activation='linear'))  # Output layer\n",
    "model.compile(loss='mean_squared_error', optimizer='adam', metrics=['mean_absolute_error'])\n",
    "history = model.fit(X_train, y_train, epochs=100, validation_split=0.2)\n"
   ]
  },
  {
   "cell_type": "code",
   "execution_count": 30,
   "metadata": {},
   "outputs": [
    {
     "name": "stdout",
     "output_type": "stream",
     "text": [
      "\u001b[1m1/1\u001b[0m \u001b[32m━━━━━━━━━━━━━━━━━━━━\u001b[0m\u001b[37m\u001b[0m \u001b[1m0s\u001b[0m 213ms/step\n"
     ]
    }
   ],
   "source": [
    "# Prever no conjunto de teste e calcular o erro médio absoluto\n",
    "y_pred = model.predict(X_test)\n",
    "mae = mean_absolute_error(y_test, y_pred)\n"
   ]
  },
  {
   "cell_type": "code",
   "execution_count": 31,
   "metadata": {},
   "outputs": [],
   "source": [
    "# Calcular o R²\n",
    "r2 = r2_score(y_test, y_pred)\n",
    "\n"
   ]
  },
  {
   "cell_type": "code",
   "execution_count": 34,
   "metadata": {},
   "outputs": [
    {
     "name": "stdout",
     "output_type": "stream",
     "text": [
      "Mean Absolute Error on Test Set: 56.71\n",
      "R-squared on Test Set: -13.16\n"
     ]
    }
   ],
   "source": [
    "# Imprimir MAE e R²\n",
    "print(f'Mean Absolute Error on Test Set: {mae:.2f}')\n",
    "print(f'R-squared on Test Set: {r2:.2f}')\n"
   ]
  },
  {
   "cell_type": "code",
   "execution_count": 35,
   "metadata": {},
   "outputs": [],
   "source": [
    "# Criar um DataFrame para o gráfico\n",
    "df_plot = pd.DataFrame({'Real Values': y_test, 'Predicted Values': y_pred.flatten()})\n",
    "\n"
   ]
  },
  {
   "cell_type": "code",
   "execution_count": 43,
   "metadata": {},
   "outputs": [],
   "source": [
    "# Criar o gráfico de dispersão\n",
    "scatter_plot = alt.Chart(df_plot).mark_circle(size=60).encode(\n",
    "    x=alt.X('Real Values', title='Valores Reais'),\n",
    "    y=alt.Y('Predicted Values', title='Valores Preditos'),\n",
    "    tooltip=['Real Values', 'Predicted Values']\n",
    ").properties(\n",
    "    title='Valores Reais vs. Valores Preditos'\n",
    ").interactive()\n",
    "\n",
    "\n"
   ]
  },
  {
   "cell_type": "code",
   "execution_count": 37,
   "metadata": {},
   "outputs": [],
   "source": [
    "# Criar a linha x=y\n",
    "linha = alt.Chart(pd.DataFrame({'x': [y.min(), y.max()], 'y': [y.min(), y.max()]})).mark_line().encode(\n",
    "    x='x',\n",
    "    y='y',\n",
    "    color=alt.value('red')\n",
    ")"
   ]
  },
  {
   "cell_type": "code",
   "execution_count": 38,
   "metadata": {},
   "outputs": [],
   "source": [
    "# Combinar o gráfico de dispersão e a linha\n",
    "chart = scatter_plot + linha\n"
   ]
  },
  {
   "cell_type": "code",
   "execution_count": 39,
   "metadata": {},
   "outputs": [],
   "source": [
    "# Salvar o gráfico como um arquivo JSON\n",
    "chart.save('real_vs_predicted_values.json')\n"
   ]
  }
 ],
 "metadata": {
  "kernelspec": {
   "display_name": "Python 3",
   "language": "python",
   "name": "python3"
  },
  "language_info": {
   "codemirror_mode": {
    "name": "ipython",
    "version": 3
   },
   "file_extension": ".py",
   "mimetype": "text/x-python",
   "name": "python",
   "nbconvert_exporter": "python",
   "pygments_lexer": "ipython3",
   "version": "3.10.12"
  }
 },
 "nbformat": 4,
 "nbformat_minor": 2
}
